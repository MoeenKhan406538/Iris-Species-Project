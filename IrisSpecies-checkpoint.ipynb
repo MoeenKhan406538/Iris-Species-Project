{
 "cells": [
  {
   "cell_type": "code",
   "execution_count": 2,
   "id": "e819530c-02cc-4fe5-a9f2-2d103b3ed8f2",
   "metadata": {},
   "outputs": [],
   "source": [
    "import numpy as np\n",
    "import pandas as pd\n",
    "from sklearn.datasets import load_iris\n",
    "iris = load_iris()"
   ]
  },
  {
   "cell_type": "code",
   "execution_count": 4,
   "id": "d17fdabf-2d13-445b-9c81-a8c09c0b5414",
   "metadata": {},
   "outputs": [],
   "source": [
    "data = pd.DataFrame(data = iris.data, columns = iris.feature_names)\n",
    "data['Species'] = iris.target"
   ]
  },
  {
   "cell_type": "code",
   "execution_count": null,
   "id": "c50af084-5489-4e30-96af-2a65d1b17e26",
   "metadata": {},
   "outputs": [],
   "source": []
  }
 ],
 "metadata": {
  "kernelspec": {
   "display_name": "Python 3 (ipykernel)",
   "language": "python",
   "name": "python3"
  },
  "language_info": {
   "codemirror_mode": {
    "name": "ipython",
    "version": 3
   },
   "file_extension": ".py",
   "mimetype": "text/x-python",
   "name": "python",
   "nbconvert_exporter": "python",
   "pygments_lexer": "ipython3",
   "version": "3.12.4"
  }
 },
 "nbformat": 4,
 "nbformat_minor": 5
}
